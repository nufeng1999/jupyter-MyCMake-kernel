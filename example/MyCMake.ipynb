{
 "cells": [
  {
   "cell_type": "code",
   "execution_count": null,
   "metadata": {},
   "outputs": [],
   "source": [
    "\n",
    "## ----------------------------------\n",
    "##%overwritefile\n",
    "##%file:src/test.cmakelist\n",
    "## %args:\n",
    "## %noruncode\n",
    "##%log:1\n",
    "## ----------------------------------\n",
    "PROJECT(TEST)\n",
    "execute_process(COMMAND cmd /c dir RESULT_VARIABLE rv)\n",
    "message(\"rv='${rv}'\")\n",
    "\n",
    " "
   ]
  },
  {
   "cell_type": "code",
   "execution_count": 3,
   "metadata": {},
   "outputs": [
    {
     "name": "stdout",
     "output_type": "stream",
     "text": [
      "[MyCMakeKernel184302] Info:file H:/Jupyter/ipynb/MyCMake/src/CMakeLists.txt created successfully\n",
      "[MyCMakeKernel184302] Info:The process :H:/Jupyter/ipynb/MyCMake/src/CMakeLists.txt\n",
      "[MyCMakeKernel184302] Info:cmake . \n"
     ]
    },
    {
     "data": {
      "text/plain": [
       "-- The C compiler identification is GNU 11.2.0\n"
      ]
     },
     "metadata": {
      "text/plain": {}
     },
     "output_type": "display_data"
    },
    {
     "data": {
      "text/plain": [
       "-- The CXX compiler identification is GNU 11.2.0\n"
      ]
     },
     "metadata": {
      "text/plain": {}
     },
     "output_type": "display_data"
    },
    {
     "name": "stdout",
     "output_type": "stream",
     "text": [
      "[MyCMakeKernel184302] Info:System is unknown to cmake, create:\n",
      "Platform/MINGW64_NT-10.0-22000 to use this system, please post your config file on discourse.cmake.org so it can be added to cmake\n",
      "\n"
     ]
    },
    {
     "data": {
      "text/plain": [
       "-- Detecting C compiler ABI info\n"
      ]
     },
     "metadata": {
      "text/plain": {}
     },
     "output_type": "display_data"
    },
    {
     "name": "stdout",
     "output_type": "stream",
     "text": [
      "[MyCMakeKernel184302] Info:System is unknown to cmake, create:\n",
      "Platform/MINGW64_NT-10.0-22000 to use this system, please post your config file on discourse.cmake.org so it can be added to cmake\n",
      "\n"
     ]
    },
    {
     "data": {
      "text/plain": [
       "-- Detecting C compiler ABI info - failed\n",
       "-- Check for working C compiler: /usr/bin/cc.exe\n"
      ]
     },
     "metadata": {
      "text/plain": {}
     },
     "output_type": "display_data"
    },
    {
     "name": "stdout",
     "output_type": "stream",
     "text": [
      "[MyCMakeKernel184302] Info:System is unknown to cmake, create:\n",
      "Platform/MINGW64_NT-10.0-22000 to use this system, please post your config file on discourse.cmake.org so it can be added to cmake\n",
      "\n"
     ]
    },
    {
     "data": {
      "text/plain": [
       "-- Check for working C compiler: /usr/bin/cc.exe - works\n"
      ]
     },
     "metadata": {
      "text/plain": {}
     },
     "output_type": "display_data"
    },
    {
     "data": {
      "text/plain": [
       "-- Detecting C compile features\n",
       "-- Detecting C compile features - done\n"
      ]
     },
     "metadata": {
      "text/plain": {}
     },
     "output_type": "display_data"
    },
    {
     "data": {
      "text/plain": [
       "-- Detecting CXX compiler ABI info\n"
      ]
     },
     "metadata": {
      "text/plain": {}
     },
     "output_type": "display_data"
    },
    {
     "name": "stdout",
     "output_type": "stream",
     "text": [
      "[MyCMakeKernel184302] Info:System is unknown to cmake, create:\n",
      "Platform/MINGW64_NT-10.0-22000 to use this system, please post your config file on discourse.cmake.org so it can be added to cmake\n",
      "\n"
     ]
    },
    {
     "data": {
      "text/plain": [
       "-- Detecting CXX compiler ABI info - failed\n",
       "-- Check for working CXX compiler: /usr/bin/CC.exe\n"
      ]
     },
     "metadata": {
      "text/plain": {}
     },
     "output_type": "display_data"
    },
    {
     "name": "stdout",
     "output_type": "stream",
     "text": [
      "[MyCMakeKernel184302] Info:System is unknown to cmake, create:\n",
      "Platform/MINGW64_NT-10.0-22000 to use this system, please post your config file on discourse.cmake.org so it can be added to cmake\n",
      "\n"
     ]
    },
    {
     "data": {
      "text/plain": [
       "-- Check for working CXX compiler: /usr/bin/CC.exe - works\n",
       "-- Detecting CXX compile features\n"
      ]
     },
     "metadata": {
      "text/plain": {}
     },
     "output_type": "display_data"
    },
    {
     "data": {
      "text/plain": [
       "-- Detecting CXX compile features - done\n"
      ]
     },
     "metadata": {
      "text/plain": {}
     },
     "output_type": "display_data"
    },
    {
     "data": {
      "text/plain": [
       "-- Configuring done\n"
      ]
     },
     "metadata": {
      "text/plain": {}
     },
     "output_type": "display_data"
    },
    {
     "data": {
      "text/plain": [
       "-- Generating done\n"
      ]
     },
     "metadata": {
      "text/plain": {}
     },
     "output_type": "display_data"
    },
    {
     "data": {
      "text/plain": [
       "-- Build files have been written to: /h/Jupyter/ipynb/MyCMake/src\n"
      ]
     },
     "metadata": {
      "text/plain": {}
     },
     "output_type": "display_data"
    },
    {
     "name": "stdout",
     "output_type": "stream",
     "text": [
      "[MyCMakeKernel184302] Info:The process end:13204\n"
     ]
    }
   ],
   "source": [
    "\n",
    "## ----------------------------------\n",
    "##%overwritefile\n",
    "##%file:src/CMakeLists.txt\n",
    "\n",
    "##%cwd:src\n",
    "##%runprg:cmake\n",
    "##%runprgargs:.\n",
    "\n",
    "## %args\n",
    "## %noruncode\n",
    "##%log:1\n",
    "## ----------------------------------\n",
    "PROJECT(TEST)\n",
    "cmake_minimum_required(VERSION 3.22)\n",
    "set(CMAKE_GENERATOR \"Unix Makefiles\")\n",
    "set(CMAKE_C_COMPILER \"gcc\")\n",
    "set(CMAKE_CXX_COMPILER \"gcc\")\n",
    "# execute_process(COMMAND cmd /c dir RESULT_VARIABLE rv)\n",
    "# message(\"rv='${rv}'\")"
   ]
  },
  {
   "cell_type": "code",
   "execution_count": null,
   "metadata": {},
   "outputs": [],
   "source": []
  }
 ],
 "metadata": {
  "kernelspec": {
   "display_name": "MyCMake",
   "language": "CMake",
   "name": "mycmake"
  },
  "language_info": {
   "name": "CMake"
  },
  "orig_nbformat": 4
 },
 "nbformat": 4,
 "nbformat_minor": 2
}
